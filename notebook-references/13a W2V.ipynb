{
 "cells": [
  {
   "cell_type": "markdown",
   "metadata": {
    "colab_type": "text",
    "id": "eGMq9GRfdTAO"
   },
   "source": [
    "# Implementación de Word2Vec (Softmax)\n",
    "\n",
    "\n",
    "En primer lugar, definimos las funciones necesarias: para stemming y para indexar el vocabulario.\n",
    "\n",
    "\n",
    "\n"
   ]
  },
  {
   "cell_type": "code",
   "execution_count": 1,
   "metadata": {
    "colab": {},
    "colab_type": "code",
    "id": "Izm4SEQrQ1ii"
   },
   "outputs": [],
   "source": [
    "#-*- encoding:utf-8 -*-\n",
    "import numpy as np\n",
    "import matplotlib.pyplot as plt\n",
    "import pandas as pd\n",
    "from collections import defaultdict, Counter\n",
    "from nltk.stem.snowball import SnowballStemmer\n",
    "from itertools import chain\n",
    "from re import sub\n",
    "from sklearn.decomposition import PCA\n",
    "from operator import itemgetter\n",
    "\n",
    "#Declaramos el stemeer\n",
    "stemizer = SnowballStemmer('spanish')\n",
    "\n",
    "#Funcion para stemming\n",
    "def stems(string):\n",
    "  stem_string = []\n",
    "  for w in string.split():\n",
    "    stem_string.append(stemizer.stem(w))\n",
    "  return stem_string\n",
    "\n",
    "#Funcion que crea un vocabulario de palabras con un indice numerico\n",
    "def vocab():\n",
    "    vocab = defaultdict()\n",
    "    vocab.default_factory = lambda: len(vocab)\n",
    "    return vocab    \n",
    "\n",
    "#Funcion que pasa la cadena de simbolos a una secuencia con indices numericos\n",
    "def text2numba(corpus, vocab):\n",
    "    for doc in corpus:\n",
    "        yield [vocab[w] for w in doc] #.split()]\n",
    "  "
   ]
  },
  {
   "cell_type": "markdown",
   "metadata": {
    "colab_type": "text",
    "id": "djATvRzkdlpF"
   },
   "source": [
    "Usamos Goolge Colab para cargar el corpus que vamos a analizar."
   ]
  },
  {
   "cell_type": "code",
   "execution_count": 2,
   "metadata": {
    "colab": {
     "base_uri": "https://localhost:8080/",
     "height": 74,
     "resources": {
      "http://localhost:8080/nbextensions/google.colab/files.js": {
       "data": "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",
       "headers": [
        [
         "content-type",
         "application/javascript"
        ]
       ],
       "ok": true,
       "status": 200,
       "status_text": ""
      }
     }
    },
    "colab_type": "code",
    "id": "OMn5j7_lRSCk",
    "outputId": "af829199-60ca-42f2-baf3-a56029d10836"
   },
   "outputs": [],
   "source": [
    "#from google.colab import files\n",
    "#uploaded = files.upload()"
   ]
  },
  {
   "cell_type": "code",
   "execution_count": 3,
   "metadata": {},
   "outputs": [],
   "source": [
    "corpus = ['el perro come un hueso', 'un muchacho jugaba', 'el muchacho saltaba la cuerda',\n",
    "          'un perro come croquetas', 'un muchacho juega']\n",
    "\n",
    "#corpus = open('corpusML.txt','r', encoding='utf8').read().strip().split('\\n')\n",
    "#print(corpus[0])"
   ]
  },
  {
   "cell_type": "markdown",
   "metadata": {
    "colab_type": "text",
    "id": "Yk7rejFwduxL"
   },
   "source": [
    "Posteriormente, limpiamos y stemizamos el corpus. Asimismo, creamos el vocabulario con índices numéricos y transformamos las cadenas de palabras encadenas de índices numéricos. Se crean venanas de $1\\times 1$"
   ]
  },
  {
   "cell_type": "code",
   "execution_count": 4,
   "metadata": {
    "colab": {
     "base_uri": "https://localhost:8080/",
     "height": 88
    },
    "colab_type": "code",
    "id": "S81y6C5cQ-m3",
    "outputId": "71bbaed8-f71e-422a-c146-2bc6dafef54d"
   },
   "outputs": [
    {
     "name": "stdout",
     "output_type": "stream",
     "text": [
      "el perro come un hueso\n",
      "['el', 'perro', 'come', 'un', 'hueso']\n",
      "[0, 1, 2, 3, 4]\n"
     ]
    }
   ],
   "source": [
    "#Abrimos el documento, lo limpiamos y separamos las cadenas\n",
    "#corpus = sub(r'[^\\w\\s]','',uploaded['corpus.es'].decode('utf8').strip().lower()).split('\\n')\n",
    "print(corpus[0])\n",
    "\n",
    "#Stemizamos el documento\n",
    "corpus = [sent.split() for sent in corpus] #[stems(sent) for sent in corpus]\n",
    "\n",
    "#Llamamos la funcion para crear el vocabulario\n",
    "idx = vocab()\n",
    "#Creamos el vocabulario y le asignamos un indice a cada simbolo segun su aparicion\n",
    "cads_idx = list(text2numba(corpus,idx))\n",
    "\n",
    "print(corpus[0])\n",
    "print(cads_idx[0])"
   ]
  },
  {
   "cell_type": "markdown",
   "metadata": {
    "colab_type": "text",
    "id": "LEqkLKT1d8uJ"
   },
   "source": [
    "   "
   ]
  },
  {
   "cell_type": "code",
   "execution_count": 5,
   "metadata": {
    "colab": {},
    "colab_type": "code",
    "id": "R6JlrRp-UkTT"
   },
   "outputs": [
    {
     "name": "stdout",
     "output_type": "stream",
     "text": [
      "[0, 1, 2, 3, 4]\n"
     ]
    }
   ],
   "source": [
    "cadenas = cads_idx \n",
    "\n",
    "#Se obtiene la longitud del alfabeto\n",
    "N = len(idx)\n",
    "\n",
    "print(cadenas[0])"
   ]
  },
  {
   "cell_type": "markdown",
   "metadata": {
    "colab_type": "text",
    "id": "KB6LnV6reHHX"
   },
   "source": [
    "Hecho esto, extraemos los bigramas del texto."
   ]
  },
  {
   "cell_type": "code",
   "execution_count": 6,
   "metadata": {
    "colab": {
     "base_uri": "https://localhost:8080/",
     "height": 54
    },
    "colab_type": "code",
    "id": "1Zz9irHXUoBY",
    "outputId": "4659f312-3049-4cd5-f7c8-30a71c16018f"
   },
   "outputs": [
    {
     "name": "stdout",
     "output_type": "stream",
     "text": [
      "[(0, 1), (1, 2), (2, 3), (3, 4), (3, 5), (5, 6), (0, 5), (5, 7), (7, 8), (8, 9), (3, 1), (1, 2), (2, 10), (3, 5), (5, 11), (1, 0), (2, 1), (3, 2), (4, 3), (5, 3), (6, 5), (5, 0), (7, 5), (8, 7), (9, 8), (1, 3), (2, 1), (10, 2), (5, 3), (11, 5)]\n"
     ]
    }
   ],
   "source": [
    "#Se crean los bigramas\n",
    "contexts = list(chain(*[zip(cad,cad[1:]) for cad in cadenas])) + list(chain(*[zip(cad[1:],cad) for cad in cadenas]))\n",
    "\n",
    "#Se obtiene la frecuencia de cada bigrama\n",
    "frecContexts = Counter(contexts)\n",
    "\n",
    "print(contexts)"
   ]
  },
  {
   "cell_type": "markdown",
   "metadata": {
    "colab_type": "text",
    "id": "hV7tq43BeKKf"
   },
   "source": [
    "Ahora, paamos a la rd neuronla.\n",
    "Primero, inicializamos los parámetros de la red. Requerimos de dos matrices U (la matriz de embedding) y W (la matriz de la capa de salida)."
   ]
  },
  {
   "cell_type": "code",
   "execution_count": 7,
   "metadata": {
    "colab": {},
    "colab_type": "code",
    "id": "n8vAIJ9SUrKn"
   },
   "outputs": [
    {
     "name": "stdout",
     "output_type": "stream",
     "text": [
      "(2, 12)\n",
      "(12, 2)\n"
     ]
    }
   ],
   "source": [
    "np.random.seed(0)\n",
    "#El número de rasgos que representan cada vector\n",
    "nn_input_dim = N\n",
    "#El total de clases que arrojará\n",
    "output_dim = N\n",
    "#El número de ejmplos\n",
    "num_examples = len(contexts)\n",
    "\n",
    "#Dimensiones de los vectores-palabra\n",
    "dim = 2\n",
    "\n",
    "#Embedding\n",
    "C = np.random.randn(dim, N) / np.sqrt(N)\n",
    "\n",
    "#Capa de salida\n",
    "W = np.random.randn(N,dim) / np.sqrt(dim) #N-1\n",
    "\n",
    "print(C.shape)\n",
    "print(W.shape)"
   ]
  },
  {
   "cell_type": "markdown",
   "metadata": {
    "colab_type": "text",
    "id": "T1D2GmiZeX7q"
   },
   "source": [
    "Ahora entrenamos la red con el algoritmo de backpropagation y de gradiente descendiente."
   ]
  },
  {
   "cell_type": "code",
   "execution_count": 8,
   "metadata": {
    "colab": {
     "base_uri": "https://localhost:8080/",
     "height": 1717
    },
    "colab_type": "code",
    "id": "WavnS0vGUuD-",
    "outputId": "a4b4e46c-23e5-47ab-d61b-ae08d251e59b"
   },
   "outputs": [
    {
     "name": "stdout",
     "output_type": "stream",
     "text": [
      "Fin de la iteración 0\n",
      "Fin de la iteración 1\n",
      "Fin de la iteración 2\n",
      "Fin de la iteración 3\n",
      "Fin de la iteración 4\n",
      "Fin de la iteración 5\n",
      "Fin de la iteración 6\n",
      "Fin de la iteración 7\n",
      "Fin de la iteración 8\n",
      "Fin de la iteración 9\n",
      "Fin de la iteración 10\n",
      "Fin de la iteración 11\n",
      "Fin de la iteración 12\n",
      "Fin de la iteración 13\n",
      "Fin de la iteración 14\n",
      "Fin de la iteración 15\n",
      "Fin de la iteración 16\n",
      "Fin de la iteración 17\n",
      "Fin de la iteración 18\n",
      "Fin de la iteración 19\n",
      "Fin de la iteración 20\n",
      "Fin de la iteración 21\n",
      "Fin de la iteración 22\n",
      "Fin de la iteración 23\n",
      "Fin de la iteración 24\n",
      "Fin de la iteración 25\n",
      "Fin de la iteración 26\n",
      "Fin de la iteración 27\n",
      "Fin de la iteración 28\n",
      "Fin de la iteración 29\n",
      "Fin de la iteración 30\n",
      "Fin de la iteración 31\n",
      "Fin de la iteración 32\n",
      "Fin de la iteración 33\n",
      "Fin de la iteración 34\n",
      "Fin de la iteración 35\n",
      "Fin de la iteración 36\n",
      "Fin de la iteración 37\n",
      "Fin de la iteración 38\n",
      "Fin de la iteración 39\n",
      "Fin de la iteración 40\n",
      "Fin de la iteración 41\n",
      "Fin de la iteración 42\n",
      "Fin de la iteración 43\n",
      "Fin de la iteración 44\n",
      "Fin de la iteración 45\n",
      "Fin de la iteración 46\n",
      "Fin de la iteración 47\n",
      "Fin de la iteración 48\n",
      "Fin de la iteración 49\n",
      "Fin de la iteración 50\n",
      "Fin de la iteración 51\n",
      "Fin de la iteración 52\n",
      "Fin de la iteración 53\n",
      "Fin de la iteración 54\n",
      "Fin de la iteración 55\n",
      "Fin de la iteración 56\n",
      "Fin de la iteración 57\n",
      "Fin de la iteración 58\n",
      "Fin de la iteración 59\n",
      "Fin de la iteración 60\n",
      "Fin de la iteración 61\n",
      "Fin de la iteración 62\n",
      "Fin de la iteración 63\n",
      "Fin de la iteración 64\n",
      "Fin de la iteración 65\n",
      "Fin de la iteración 66\n",
      "Fin de la iteración 67\n",
      "Fin de la iteración 68\n",
      "Fin de la iteración 69\n",
      "Fin de la iteración 70\n",
      "Fin de la iteración 71\n",
      "Fin de la iteración 72\n",
      "Fin de la iteración 73\n",
      "Fin de la iteración 74\n",
      "Fin de la iteración 75\n",
      "Fin de la iteración 76\n",
      "Fin de la iteración 77\n",
      "Fin de la iteración 78\n",
      "Fin de la iteración 79\n",
      "Fin de la iteración 80\n",
      "Fin de la iteración 81\n",
      "Fin de la iteración 82\n",
      "Fin de la iteración 83\n",
      "Fin de la iteración 84\n",
      "Fin de la iteración 85\n",
      "Fin de la iteración 86\n",
      "Fin de la iteración 87\n",
      "Fin de la iteración 88\n",
      "Fin de la iteración 89\n",
      "Fin de la iteración 90\n",
      "Fin de la iteración 91\n",
      "Fin de la iteración 92\n",
      "Fin de la iteración 93\n",
      "Fin de la iteración 94\n",
      "Fin de la iteración 95\n",
      "Fin de la iteración 96\n",
      "Fin de la iteración 97\n",
      "Fin de la iteración 98\n",
      "Fin de la iteración 99\n"
     ]
    }
   ],
   "source": [
    "its = 100\n",
    "eta = 0.1\n",
    "for i in range(0,its):\n",
    "    for ex in contexts:\n",
    "        #Forward\n",
    "        #Embedimiento\n",
    "        u_w = C.T[ex[0]]\n",
    "        #salida\n",
    "        a = np.dot(W,u_w)\n",
    "        out = np.exp(a - np.max(a))\n",
    "        #Softmax\n",
    "        f = out/out.sum(0)\n",
    "\n",
    "        #Backprop\n",
    "        #Variable de salida\n",
    "        d_out = f\n",
    "        d_out[ex[1]] -= 1\n",
    "        \n",
    "        #Variable de embedding\n",
    "        d_emb = np.dot(d_out,W)\n",
    "        \n",
    "        #Actualizacion de salida\n",
    "        W -= eta*np.outer(d_out,u_w)\n",
    "\n",
    "        #Actualizacion de embedding\n",
    "        C.T[ex[0]] -= eta*d_emb\n",
    "        \n",
    "    print('Fin de la iteración',i)"
   ]
  },
  {
   "cell_type": "markdown",
   "metadata": {
    "colab_type": "text",
    "id": "kwMXH6kQefdq"
   },
   "source": [
    "Entrenada la red, definimos una función forward para obtener las probabilidades a partir de la red ya entrenada."
   ]
  },
  {
   "cell_type": "code",
   "execution_count": 9,
   "metadata": {
    "colab": {},
    "colab_type": "code",
    "id": "PEItxrWkU1kQ"
   },
   "outputs": [],
   "source": [
    "#Forward\n",
    "def forward(x):    \n",
    "    #Embedimiento\n",
    "    u_w = C.T[x]\n",
    "    #Capa de salida\n",
    "    out = np.exp(np.dot(W,u_w))\n",
    "    p = out/out.sum(0)\n",
    "    return p"
   ]
  },
  {
   "cell_type": "markdown",
   "metadata": {
    "colab_type": "text",
    "id": "HwaTKqUqel5x"
   },
   "source": [
    "Podemos probar cómo son las probabilidades de la red. En este caso, lo hacemos para el símbolo BOS."
   ]
  },
  {
   "cell_type": "code",
   "execution_count": 10,
   "metadata": {
    "colab": {
     "base_uri": "https://localhost:8080/",
     "height": 20009
    },
    "colab_type": "code",
    "id": "5bF46KR0Y3V2",
    "outputId": "dcc3893f-33ac-4653-df60-743b0e87d2bd"
   },
   "outputs": [
    {
     "name": "stdout",
     "output_type": "stream",
     "text": [
      "el 0.17213392176111833\n",
      "perro 0.019557189586549246\n",
      "come 0.2917201888758483\n",
      "un 0.4703867576034756\n",
      "hueso 0.002172033986129515\n",
      "muchacho 9.411339964002535e-05\n",
      "jugaba 0.01064221121408161\n",
      "saltaba 0.00023415462914648438\n",
      "la 2.182984223135465e-06\n",
      "cuerda 2.1010696520820872e-05\n",
      "croquetas 0.030784356366616146\n",
      "juega 0.0022518788966506427\n"
     ]
    }
   ],
   "source": [
    "for word in idx.keys():\n",
    "  #if word != '<BOS>':\n",
    "    print(word,forward(idx['perro'])[idx[word]])"
   ]
  },
  {
   "cell_type": "markdown",
   "metadata": {},
   "source": [
    "## Vectores distribuidos\n",
    "\n",
    "Los vectores de word embeddings se almacenan en la matriz de la capa de embedding (capa oculta). De esta forma, cada columna de la matriz corresponde a un vector que representa una palabra."
   ]
  },
  {
   "cell_type": "code",
   "execution_count": 11,
   "metadata": {},
   "outputs": [
    {
     "data": {
      "text/html": [
       "<div>\n",
       "<style scoped>\n",
       "    .dataframe tbody tr th:only-of-type {\n",
       "        vertical-align: middle;\n",
       "    }\n",
       "\n",
       "    .dataframe tbody tr th {\n",
       "        vertical-align: top;\n",
       "    }\n",
       "\n",
       "    .dataframe thead th {\n",
       "        text-align: right;\n",
       "    }\n",
       "</style>\n",
       "<table border=\"1\" class=\"dataframe\">\n",
       "  <thead>\n",
       "    <tr style=\"text-align: right;\">\n",
       "      <th></th>\n",
       "      <th>0</th>\n",
       "      <th>1</th>\n",
       "    </tr>\n",
       "  </thead>\n",
       "  <tbody>\n",
       "    <tr>\n",
       "      <th>el</th>\n",
       "      <td>1.863235</td>\n",
       "      <td>-1.764329</td>\n",
       "    </tr>\n",
       "    <tr>\n",
       "      <th>perro</th>\n",
       "      <td>1.746232</td>\n",
       "      <td>1.212239</td>\n",
       "    </tr>\n",
       "    <tr>\n",
       "      <th>come</th>\n",
       "      <td>0.874251</td>\n",
       "      <td>-0.171030</td>\n",
       "    </tr>\n",
       "    <tr>\n",
       "      <th>un</th>\n",
       "      <td>0.872842</td>\n",
       "      <td>-0.636562</td>\n",
       "    </tr>\n",
       "    <tr>\n",
       "      <th>hueso</th>\n",
       "      <td>1.175048</td>\n",
       "      <td>3.173256</td>\n",
       "    </tr>\n",
       "    <tr>\n",
       "      <th>muchacho</th>\n",
       "      <td>0.025719</td>\n",
       "      <td>1.653847</td>\n",
       "    </tr>\n",
       "    <tr>\n",
       "      <th>jugaba</th>\n",
       "      <td>0.813070</td>\n",
       "      <td>-2.609903</td>\n",
       "    </tr>\n",
       "    <tr>\n",
       "      <th>saltaba</th>\n",
       "      <td>-0.440485</td>\n",
       "      <td>-1.733584</td>\n",
       "    </tr>\n",
       "    <tr>\n",
       "      <th>la</th>\n",
       "      <td>-2.127755</td>\n",
       "      <td>0.697454</td>\n",
       "    </tr>\n",
       "    <tr>\n",
       "      <th>cuerda</th>\n",
       "      <td>-1.984458</td>\n",
       "      <td>-1.826014</td>\n",
       "    </tr>\n",
       "    <tr>\n",
       "      <th>croquetas</th>\n",
       "      <td>3.419546</td>\n",
       "      <td>0.666681</td>\n",
       "    </tr>\n",
       "    <tr>\n",
       "      <th>juega</th>\n",
       "      <td>0.759792</td>\n",
       "      <td>-2.539787</td>\n",
       "    </tr>\n",
       "  </tbody>\n",
       "</table>\n",
       "</div>"
      ],
      "text/plain": [
       "                  0         1\n",
       "el         1.863235 -1.764329\n",
       "perro      1.746232  1.212239\n",
       "come       0.874251 -0.171030\n",
       "un         0.872842 -0.636562\n",
       "hueso      1.175048  3.173256\n",
       "muchacho   0.025719  1.653847\n",
       "jugaba     0.813070 -2.609903\n",
       "saltaba   -0.440485 -1.733584\n",
       "la        -2.127755  0.697454\n",
       "cuerda    -1.984458 -1.826014\n",
       "croquetas  3.419546  0.666681\n",
       "juega      0.759792 -2.539787"
      ]
     },
     "execution_count": 11,
     "metadata": {},
     "output_type": "execute_result"
    }
   ],
   "source": [
    "pd.DataFrame(data=C.T, index=list(idx.keys()))"
   ]
  },
  {
   "cell_type": "markdown",
   "metadata": {},
   "source": [
    "Podemos, entonces, visualizar los datos en un espacio vectorial."
   ]
  },
  {
   "cell_type": "code",
   "execution_count": 12,
   "metadata": {},
   "outputs": [],
   "source": [
    "def plot_words(Z,ids):\n",
    "    Z = PCA(2).fit_transform(Z)\n",
    "    r=0\n",
    "    plt.scatter(Z[:,0],Z[:,1], marker='o', c='blue')\n",
    "    for label,x,y in zip(ids, Z[:,0], Z[:,1]):\n",
    "        plt.annotate(label, xy=(x,y), xytext=(-1,1), textcoords='offset points', ha='center', va='bottom')\n",
    "        r+=1\n",
    "    plt.show()"
   ]
  },
  {
   "cell_type": "code",
   "execution_count": 13,
   "metadata": {},
   "outputs": [
    {
     "data": {
      "image/png": "[encoded data removed]",
      "text/plain": [
       "<Figure size 432x288 with 1 Axes>"
      ]
     },
     "metadata": {
      "needs_background": "light"
     },
     "output_type": "display_data"
    }
   ],
   "source": [
    "plot_words(C.T, list(idx.keys()))"
   ]
  },
  {
   "cell_type": "markdown",
   "metadata": {},
   "source": [
    "  "
   ]
  }
 ],
 "metadata": {
  "colab": {
   "name": "Untitled0.ipynb",
   "provenance": [],
   "version": "0.3.2"
  },
  "kernelspec": {
   "display_name": "Python 3",
   "language": "python",
   "name": "python3"
  },
  "language_info": {
   "codemirror_mode": {
    "name": "ipython",
    "version": 3
   },
   "file_extension": ".py",
   "mimetype": "text/x-python",
   "name": "python",
   "nbconvert_exporter": "python",
   "pygments_lexer": "ipython3",
   "version": "3.8.5"
  }
 },
 "nbformat": 4,
 "nbformat_minor": 1
}
