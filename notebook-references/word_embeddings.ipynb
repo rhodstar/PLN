{
 "cells": [
  {
   "cell_type": "markdown",
   "metadata": {
    "collapsed": true
   },
   "source": [
    "# Word embeddings"
   ]
  },
  {
   "cell_type": "markdown",
   "metadata": {},
   "source": [
    "El algoritmo de word embeddings se basa en una red neuronal pre-alimentada con una capa oculta. Las representaciones vectoriales están dadas por los parámetros de la red neironal"
   ]
  },
  {
   "cell_type": "code",
   "execution_count": 1,
   "metadata": {
    "collapsed": true
   },
   "outputs": [],
   "source": [
    "%matplotlib inline\n",
    "import numpy as np\n",
    "from collections import defaultdict\n",
    "import matplotlib.pyplot as plt"
   ]
  },
  {
   "cell_type": "markdown",
   "metadata": {},
   "source": [
    "Definimos funciones para determinar índices numéricos en las palabras"
   ]
  },
  {
   "cell_type": "code",
   "execution_count": 2,
   "metadata": {
    "collapsed": true
   },
   "outputs": [],
   "source": [
    "def vocab():\n",
    "    dicc = defaultdict()\n",
    "    dicc.default_factory = lambda: len(dicc)\n",
    "    return dicc\n",
    "\n",
    "def BoW(corpus,vocab):\n",
    "    for w in corpus:\n",
    "        yield[vocab[w_i] for w_i in w.split()]"
   ]
  },
  {
   "cell_type": "markdown",
   "metadata": {},
   "source": [
    "Definimos una función que nos permitirá visualizar los vectores:"
   ]
  },
  {
   "cell_type": "code",
   "execution_count": 3,
   "metadata": {
    "collapsed": true
   },
   "outputs": [],
   "source": [
    "def plot_words(Z,ids):\n",
    "    r=0\n",
    "    plt.scatter(Z[:,0],Z[:,1], marker='o', c='blue')\n",
    "    for label,x,y in zip(ids, Z[:,0], Z[:,1]):\n",
    "        plt.annotate(label.decode('utf8'), xy=(x,y), xytext=(-1,1), textcoords='offset points', ha='center', va='bottom')\n",
    "        r+=1\n",
    "    plt.show()"
   ]
  },
  {
   "cell_type": "markdown",
   "metadata": {},
   "source": [
    "Definimos algunos ejemplos para el entrenamiento que estarán determinados por contextos de aparición de las palabras:"
   ]
  },
  {
   "cell_type": "code",
   "execution_count": 4,
   "metadata": {
    "collapsed": true
   },
   "outputs": [],
   "source": [
    "contextos = ['gato come', 'perro come', 'gato salta', 'perro salta', 'gato felino']"
   ]
  },
  {
   "cell_type": "markdown",
   "metadata": {},
   "source": [
    "Convertimos los contextos en un vocabulario basado en índices númericos. Determinamos el tamaño del vocabulario y el número de dimensiones que deseamos en nuestros vectores de salida."
   ]
  },
  {
   "cell_type": "code",
   "execution_count": 5,
   "metadata": {
    "collapsed": false
   },
   "outputs": [],
   "source": [
    "voc = vocab()\n",
    "words = list(BoW(contextos, voc))\n",
    "\n",
    "N, d = len(voc), 2"
   ]
  },
  {
   "cell_type": "markdown",
   "metadata": {},
   "source": [
    "Generamos los parámetros de la red neuronal, que corresponden a dos matrices. La matriz $W$ de tamaño $N\\times d$ y la matriz $U$ de tamaño $d\\times N$.\n",
    "\n",
    "La matriz $W$ representará a las palabras en versiones vectoriales. En este caso, estos vectores inicializan aleatoriamente:"
   ]
  },
  {
   "cell_type": "code",
   "execution_count": 6,
   "metadata": {
    "collapsed": false
   },
   "outputs": [
    {
     "data": {
      "image/png": "[encoded data removed]",
      "text/plain": [
       "<matplotlib.figure.Figure at 0x7f8cfe0c51d0>"
      ]
     },
     "metadata": {},
     "output_type": "display_data"
    }
   ],
   "source": [
    "W = np.random.random((N, d))\n",
    "U = np.random.random((d, N))\n",
    "\n",
    "plot_words(W,voc.keys())"
   ]
  },
  {
   "cell_type": "markdown",
   "metadata": {},
   "source": [
    "Ahora, definimos la función Softmax dada por $$ p(x|y) = \\frac{exp\\{ -x\\cdot y \\}}{\\sum_k exp\\{ -k \\cdot y \\}}$$"
   ]
  },
  {
   "cell_type": "code",
   "execution_count": 7,
   "metadata": {
    "collapsed": false
   },
   "outputs": [],
   "source": [
    "def softmax(x,y):\n",
    "    return np.exp(-np.dot(x,y))/sum([np.exp(-np.dot(k,y)) for k in U.T])"
   ]
  },
  {
   "cell_type": "markdown",
   "metadata": {},
   "source": [
    "Podemos tomar un ejemplo del entrenamiento y observar cuál es la probabilidad Softmax cuando no se han entrenado aún los vectores:"
   ]
  },
  {
   "cell_type": "code",
   "execution_count": 8,
   "metadata": {
    "collapsed": false
   },
   "outputs": [
    {
     "name": "stdout",
     "output_type": "stream",
     "text": [
      "0.207005755368\n"
     ]
    }
   ],
   "source": [
    "ex = ['gato','felino']\n",
    "\n",
    "print softmax(W[voc[ex[0]]], U.T[voc[ex[1]]])"
   ]
  },
  {
   "cell_type": "markdown",
   "metadata": {},
   "source": [
    "Ahora, debemos entrenar la red neuronal. Para esto, evaluamos a partir de la función Softmax, y determinamos la función de error para correr el gradiente descendiente sobre la capa de salida. Si la entrada es la $j$-ésima palabra, entonces actualizamos la $i$-śima salidad como:\n",
    "\n",
    "$$U_i^T \\leftarrow U_i^T  - \\eta [1-p(x|y)] W_j$$\n",
    "\n",
    "Después actualizamos la capa de entrada a partir de retro propagar el error como:\n",
    "\n",
    "$$W_j \\leftarrow W_j - \\eta EH$$\n",
    "\n",
    "Donde $EH \\in \\mathbb{R}^d$ está dada por un vector cuyas entradas son_\n",
    "\n",
    "$$EH = (EH_i) = \\sum_j p(x|y_j) U_{i,j}$$"
   ]
  },
  {
   "cell_type": "code",
   "execution_count": 9,
   "metadata": {
    "collapsed": false
   },
   "outputs": [],
   "source": [
    "l = 1.0      #Rango de aprendizaje\n",
    "\n",
    "for w in voc:\n",
    "    p = softmax(W[voc[ex[0]]], U.T[voc[w]])    #Calculo de softmax\n",
    "    \n",
    "    #Se determina la funcion de error\n",
    "    if w == ex[1]:\n",
    "        err = 1-p\n",
    "    else:\n",
    "        err = 0-p\n",
    "                \n",
    "    #Se actualiza U\n",
    "    U.T[voc[w]] -= l*err*W[voc[ex[0]]]\n",
    "\n",
    "#Se actualiza W\n",
    "W[voc[ex[0]]] -= l*U.sum(1)"
   ]
  },
  {
   "cell_type": "markdown",
   "metadata": {},
   "source": [
    "Ahora, podemos ver cómo vambian las probabilidades del ejemplo:"
   ]
  },
  {
   "cell_type": "code",
   "execution_count": 10,
   "metadata": {
    "collapsed": false
   },
   "outputs": [
    {
     "name": "stdout",
     "output_type": "stream",
     "text": [
      "0.559521523684\n"
     ]
    }
   ],
   "source": [
    "print softmax(W[voc[ex[0]]], U.T[voc[ex[1]]])"
   ]
  },
  {
   "cell_type": "markdown",
   "metadata": {},
   "source": [
    "Aunque la variación no es mucha todavía (pues se requiere que se recorran todos los ejemplos y se itere el proceso varias veces) podemos ver que los vectores de la matriz W cambian:"
   ]
  },
  {
   "cell_type": "code",
   "execution_count": 11,
   "metadata": {
    "collapsed": false
   },
   "outputs": [
    {
     "data": {
      "image/png": "[encoded data removed]",
      "text/plain": [
       "<matplotlib.figure.Figure at 0x7f8cfc029a10>"
      ]
     },
     "metadata": {},
     "output_type": "display_data"
    }
   ],
   "source": [
    "plot_words(W,voc.keys())"
   ]
  },
  {
   "cell_type": "markdown",
   "metadata": {
    "collapsed": true
   },
   "source": [
    "De esta forma, este proceso se debe adaptar para actualizar todos los vectores de la matriz $W$ con respecto a los ejemplos de entrenamiento."
   ]
  }
 ],
 "metadata": {
  "kernelspec": {
   "display_name": "Python 2",
   "language": "python",
   "name": "python2"
  },
  "language_info": {
   "codemirror_mode": {
    "name": "ipython",
    "version": 2
   },
   "file_extension": ".py",
   "mimetype": "text/x-python",
   "name": "python",
   "nbconvert_exporter": "python",
   "pygments_lexer": "ipython2",
   "version": "2.7.13"
  }
 },
 "nbformat": 4,
 "nbformat_minor": 2
}
