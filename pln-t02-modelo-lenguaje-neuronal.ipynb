{
 "cells": [
  {
   "cell_type": "markdown",
   "metadata": {},
   "source": [
    "# Procesamiento del Lenguaje Natural\n",
    "\n",
    "<img src=\"README.assets/nlp.png\" alt=\"pln\"/>\n",
    "\n",
    "## Generación de un modelo de lenguaje utilizando redes neuronales\n",
    "\n",
    "_Autor: Rodrigo Francisco Pablo_\n",
    "\n",
    "El modelo del lenguaje neuronal propuesto por Bengio (2003) es un modelo que estima probabilidades a partir de una red neuronal FeedForward. Como otros modelos, se puede entender como una tupla:\n",
    "\n",
    "$$\\mu = (\\Sigma, P)$$\n",
    "\n",
    "donde $\\Sigma$ es el vocabulario de palabras y $P = p(w_j|w_i)$ es la probabilidad de transición de $w_i$ a $w_j$. En este caso $P$ es una red FeedForward con una arquitectura constituida por:\n",
    "\n",
    "* Una capa de embedding.\n",
    "* Una capa oculta con activación $\\tanh$.\n",
    "* Una capa de salida con activación Softmax para obtener las probabilidades de transición.\n",
    "\n",
    "\n",
    "### Configuraciones previas\n",
    "\n",
    "Se realizan los *imports* necesarios para la creación del modelo. Para la creación del modelo se puede hacer uso de PyTorch o Tensorflow o cualquier otra librería que tenga redes neuronales pre-entrenadas, sin embargo, para este ejercicio se creará la red desde cero utilizando simplemente _numpy_."
   ]
  },
  {
   "cell_type": "code",
   "execution_count": 1,
   "metadata": {},
   "outputs": [],
   "source": [
    "#-*- encoding:utf-8 -*-\n",
    "\n",
    "import numpy as np\n",
    "from collections import defaultdict, Counter\n",
    "from itertools import chain\n",
    "\n",
    "import matplotlib.pyplot as plt\n",
    "\n",
    "from sklearn.model_selection import train_test_split\n",
    "from nltk.tokenize import sent_tokenize, word_tokenize\n",
    "\n",
    "from tqdm import tqdm\n",
    "from sklearn.decomposition import PCA\n",
    "from operator import itemgetter"
   ]
  },
  {
   "cell_type": "markdown",
   "metadata": {},
   "source": [
    "Definimos tres funciones:\n",
    "\n",
    "* Función para crear el vocabulario: asocia índices numéricos a palabras\n",
    "* Función para asociar a cada elemento, una palabra\n",
    "* Función para visualizar los embeddings por reducción de dimensionalidad con PCA"
   ]
  },
  {
   "cell_type": "code",
   "execution_count": 2,
   "metadata": {},
   "outputs": [],
   "source": [
    "# Funcion que crea un vocabulario de palabras con un indice numero\n",
    "def vocab():\n",
    "    vocab = defaultdict()\n",
    "    vocab.default_factory = lambda: len (vocab)\n",
    "    return vocab\n",
    "\n",
    "# Funcion que pasa la cadena de simbolos a una secuencia con indices numericos\n",
    "def text2numba(corpus, vocab):\n",
    "    for doc in corpus:\n",
    "        yield [vocab[w] for w in doc]\n",
    "        \n",
    "#Función para visualizar los embeddings\n",
    "#Usa reducción de la dimensionalidad por PCA\n",
    "def plot_words(Z,ids):\n",
    "    Z = PCA(2).fit_transform(Z)\n",
    "    r=0\n",
    "    plt.scatter(Z[:,0],Z[:,1], marker='o', c='blue')\n",
    "    for label,x,y in zip(ids, Z[:,0], Z[:,1]):\n",
    "        plt.annotate(label, xy=(x,y), xytext=(-1,1), textcoords='offset points', ha='center', va='bottom')\n",
    "        r+=1\n",
    "    plt.show()"
   ]
  },
  {
   "cell_type": "markdown",
   "metadata": {},
   "source": [
    "### Elección de un corpus\n",
    "\n",
    "Un **corpus** es una muestra bien organizada del nuestro lenguaje tomada de materiales escritos o hablados y que se encuentran agrupados bajo un críterio común. Para esta práctica se utilizará un corpus en *español*.\n",
    "\n",
    "Obtenemos las sentencias con las que vamos a trabajar. Tokenizamos por oraciones y cada oración, a su vez, es tokenizada por palabras para obtener los elementos que servirán para el modelo del lenguaje.\n",
    "\n",
    "Posteriormente, separamos los datos del corpus en el corpus de entrenamiento y el de evaluación:"
   ]
  },
  {
   "cell_type": "code",
   "execution_count": 3,
   "metadata": {
    "scrolled": true
   },
   "outputs": [
    {
     "name": "stdout",
     "output_type": "stream",
     "text": [
      "Número de oraciones en train: 88\n",
      "Número de oraciones en test: 39\n"
     ]
    }
   ],
   "source": [
    "# OPCION 1\n",
    "sents =  [word_tokenize(s) for s in sent_tokenize(open('corpus/funes_el_memorioso.txt','r').read())]\n",
    "\n",
    "#Split en corpus train y test\n",
    "corpus, corpus_eval = train_test_split(sents, test_size=0.3)\n",
    "\n",
    "print('Número de oraciones en train:',len(corpus))\n",
    "print('Número de oraciones en test:',len(corpus_eval))"
   ]
  },
  {
   "cell_type": "code",
   "execution_count": 4,
   "metadata": {},
   "outputs": [],
   "source": [
    "# OPCION 2\n",
    "#import nltk\n",
    "#nltk.download('gutenberg')\n",
    "#sents = cess_esp.sents()\n",
    "#nltk.download('punkt')\n",
    "#sents = nltk.corpus.gutenberg.sents('shakespeare-macbeth.txt')\n",
    "\n",
    "# #Split en corpus train y test\n",
    "# corpus, corpus_eval = train_test_split(sents, test_size=0.3)\n",
    "\n",
    "# print('Número de oraciones en train:',len(corpus))\n",
    "# print('Número de oraciones en test:',len(corpus_eval))"
   ]
  },
  {
   "cell_type": "markdown",
   "metadata": {},
   "source": [
    "También podemos ver el número de tipos y tokens con el que cuenta el texto:"
   ]
  },
  {
   "cell_type": "code",
   "execution_count": 5,
   "metadata": {},
   "outputs": [
    {
     "name": "stdout",
     "output_type": "stream",
     "text": [
      "Número de tipos: 873 \n",
      "Número de tokens: 2244\n"
     ]
    }
   ],
   "source": [
    "#Frecuencia de los tipos\n",
    "freq_words= Counter( chain(*[' '.join(sent).lower().split() for sent in corpus]) )\n",
    "\n",
    "print('Número de tipos: {} \\nNúmero de tokens: {}'.format(len(freq_words), sum(freq_words.values())))"
   ]
  },
  {
   "cell_type": "markdown",
   "metadata": {},
   "source": [
    "### Sustitución de los hapax\n",
    "\n",
    "Ahora sustituiremos elementos del texto por el símbolo de fuera del vocabulario (Out Of Vocabulary) o $OOV$ esto nos permitirá manejar elementos que no se observen durante el entrenamiento."
   ]
  },
  {
   "cell_type": "code",
   "execution_count": 6,
   "metadata": {},
   "outputs": [],
   "source": [
    "#Nuevo corpus remplazando hápax por OOV\n",
    "corpus_hapax = []\n",
    "#Reemplazamos los hápax por OOV\n",
    "for sent in corpus:\n",
    "  sent_hapax =[]\n",
    "  for w in sent:\n",
    "    #Si es hápax\n",
    "    if freq_words[w.lower()] == 1:\n",
    "      #Se reemplaza por <oov>\n",
    "      sent_hapax.append('<oov>')\n",
    "    else:\n",
    "      #De otra forma se mantiene la palabra en mínuscula\n",
    "      sent_hapax.append(w.lower())\n",
    "  #Se agrupan las cadenas    \n",
    "  corpus_hapax.append(sent_hapax)\n",
    "    \n",
    "#print(corpus_hapax)"
   ]
  },
  {
   "cell_type": "markdown",
   "metadata": {},
   "source": [
    "### 1.  Stemming\n",
    "\n",
    "Para esta tarea no realizará el proceso de steamming con la finalidad de simplificar la validación del modelo, ya que de otra manera se deberían reconstruir las cadenas a la hora de evaluar el modelo o a la hora de usarlo para alguna aplicación, por ejemplo, la generación de oraciones."
   ]
  },
  {
   "cell_type": "markdown",
   "metadata": {},
   "source": [
    "### 2. Insertar símbolos de inicio y final de cadena\n",
    "\n",
    "Se indexa númericamente cada simbolo del vocabulario"
   ]
  },
  {
   "cell_type": "code",
   "execution_count": 7,
   "metadata": {},
   "outputs": [],
   "source": [
    "# Llamamos a la funcion para crear un vocabulario\n",
    "idx = vocab() # Simplemente se renombra la funcion\n",
    "\n",
    "cads_idx = list(text2numba(corpus_hapax,idx))"
   ]
  },
  {
   "cell_type": "markdown",
   "metadata": {},
   "source": [
    "Además, se colocarán etiquetas al inicio y al final de cada sentencia: BOS (Beginning of Sentence) y EOS (End of Sentence) respectivamente."
   ]
  },
  {
   "cell_type": "code",
   "execution_count": 8,
   "metadata": {},
   "outputs": [],
   "source": [
    "BOS = '<BOS>'\n",
    "EOS = '<EOS>'\n",
    "\n",
    "# A cada etiqueta se le asigna el indice número mayor \n",
    "# que el último indice asignado al vocabulario\n",
    "\n",
    "BOS_IDX = max(idx.values()) + 2\n",
    "EOS_IDX = max(idx.values()) + 1\n",
    "\n",
    "# Se agregan las etiquetas al vocabulario\n",
    "idx[EOS] = EOS_IDX\n",
    "idx[BOS] = BOS_IDX\n",
    "\n",
    "# Agregamos las etiquetas BOS al inicio y EOS al final de cada sentencia\n",
    "\n",
    "strings = [[BOS_IDX] + cad + [EOS_IDX] for cad in cads_idx]"
   ]
  },
  {
   "cell_type": "markdown",
   "metadata": {},
   "source": [
    "### 3. Bigramas\n",
    "\n",
    "Antes de entrenar el modelo del lenguaje obtendremos los pares de entrenamiento que serán los pares obtenidos de bigramas, de tal forma que nuestro conjunto supervisado será:\n",
    "\n",
    "$$\\mathcal{S} = \\{(i,j) : (w_i, w_j) \\text{ es un bigrama}\\}$$"
   ]
  },
  {
   "cell_type": "code",
   "execution_count": 9,
   "metadata": {
    "scrolled": true
   },
   "outputs": [
    {
     "name": "stdout",
     "output_type": "stream",
     "text": [
      "tamaño de los bigramas construidos: 2332\n",
      "Bigramas: \n",
      "[(195, 0), (0, 0), (0, 0), (0, 1), (1, 2), (2, 3), (3, 4), (4, 5), (5, 6), (6, 0)]\n"
     ]
    }
   ],
   "source": [
    "# Creacion de bigramas\n",
    "bigrams = list(chain(*[zip(cad,cad[1:]) for cad in strings]))\n",
    "print(\"tamaño de los bigramas construidos: {}\".format(len(bigrams)))\n",
    "\n",
    "print(\"Bigramas: \")\n",
    "print(bigrams[:10])"
   ]
  },
  {
   "cell_type": "markdown",
   "metadata": {},
   "source": [
    "### 4. Entrenamiento de la red neuronal\n",
    "\n",
    "Como se mencionó al inicio, el modelo del lenguaje natural propuesto se base en la arquitectura porpuesta por Bengio(2003), la cual es una red neuronal de 3 capas, como se puede observar en la siguiente figura:\n",
    "\n",
    "<img src=\"README.assets/arquitectura.png\" alt=\"arquitectura\" width=\"200\"/>\n",
    "\n",
    "Para la fase de *FORWARD*:\n",
    "\n",
    "* Las entradas son vectores *one-hot* creados apartir de los indices de cada palabra en el vocabulario de entrenamiento. Por lo tanto si se tiene una palabra $w_3$, con indice 3, entonces el vector one-hot será:\n",
    "\n",
    "$$x(i) = \\begin{pmatrix}\n",
    "           0 \\\\\n",
    "           0 \\\\\n",
    "           1 \\\\\n",
    "           \\vdots \\\\\n",
    "           0\n",
    "         \\end{pmatrix}$$\n",
    "* Dicho vector *one-hot*, pasa a la capa de *embedding* _C_, tal que $C \\in \\mathbb{R}^{d\\times N}$, donde $N = |\\Sigma|$, es decir $N$ es el tamaño del vocabulario y $d$, es un hiperparámetro que representa la dimensiones de estas.\n",
    "\n",
    "* El resultado de la capa de embedding se pasa a la *capa oculta*, cuya función de activación _tanh_:\n",
    "\n",
    "$$h(i) := \\tanh(WC(i) + b)$$\n",
    "\n",
    "* En donde $W \\in \\mathbb{R}^{m\\times d}$ y $b$ es el bias, tal que $b \\in \\mathbb{R}^m$, con $m$ como otro hiperparámetro que representa las unidades ocultas.\n",
    "\n",
    "* Finalmente, la capa de salida esta dada por la pre-activación $a$, que se define de la siguiente forma:\n",
    "\n",
    "$$a(i):= Uh(i) + c$$\n",
    "\n",
    "* En donde $U \\in \\mathbb{R}^{N\\times m}$ y $c\\in \\mathbb{R}^N$\n",
    "* D esta forma, las palabras $w_k$ se indexan, mediante las entradas $a_k(i)$ de la pre-activación, por lo que la activación queda de la siguiente forma:\n",
    "\n",
    "$$p(w_j|w_i) = \\text{Softmax}[a_j(i)] := \\dfrac{e^{a_j(i)}}{\\sum_{k=1}^{K} e^{a_k(i)}}$$\n",
    "\n",
    "Por otra parte, se necesita una _función de riesgo_, dada por la entropía cruzada:\n",
    "\n",
    "$$R(\\theta) = - \\sum_i \\sum_k y_k \\ln p(w_k|w_i)$$\n",
    "\n",
    "* donde $y_k = 1$ si $k= j$, tal que $w_j$ es parte del bigrama $(w_i|w_j) y será 0 en cualquier otro caso.\n",
    "\n",
    "Fase de *BACKPROPAGATION*\n",
    "\n",
    "Para actualizar las matrices se utiliza el algoritmo de RETROPROPAGACIÓN (backpropagation), a continuación se enlistas las funciones de riesgo\n",
    "\n",
    "* Capa de salida}\n",
    "\n",
    "$$d_{out}(k) = p(w_k|w_i) - y_k$$\n",
    "\n",
    "* Capa oculta\n",
    "\n",
    "$$d_h(k) = [1-h(i)_k^2]\\sum_q U_{k,q} d_{out}(q)$$\n",
    "\n",
    "* Capa de embedding\n",
    "\n",
    "$$d_C(k) = \\sum_q W_{k,q}d_h(q)$$\n",
    "\n",
    "Fase *BACKWARDS*\n",
    "\n",
    "Para la actualización de los pesos se utiliza _gradiente descendiente_, de esta forma:\n",
    "\n",
    "* Para la capa de salida\n",
    "\n",
    "$$U_{l,k} \\leftarrow U_{l,k} - \\eta d_{out}(k)h(i)_l$$\n",
    "\n",
    "* Para la capa oculta\n",
    "\n",
    "$$W_{l,k} \\leftarrow W_{l,k} - \\eta d_h(k)C(i)_l$$\n",
    "\n",
    "* Para la capa de embedding\n",
    "\n",
    "$$C_{l,k} \\leftarrow C_{l,k} - \\eta d_C(k)\\times x(i)_l$$"
   ]
  },
  {
   "cell_type": "code",
   "execution_count": 10,
   "metadata": {},
   "outputs": [
    {
     "name": "stderr",
     "output_type": "stream",
     "text": [
      "100%|██████████| 50/50 [01:09<00:00,  1.38s/it]\n"
     ]
    }
   ],
   "source": [
    "np.random.seed(0)\n",
    "\n",
    "iterations = 50\n",
    "eta = 0.1\n",
    "\n",
    "dim = 100\n",
    "m = 300\n",
    "N = len(idx)\n",
    "\n",
    "# Embebidding\n",
    "C = np.random.randn(dim,N) / np.sqrt(N)\n",
    "\n",
    "# Oculta\n",
    "W = np.random.randn(m,dim) / np.sqrt(dim)\n",
    "b = np.ones(m)\n",
    "\n",
    "# Salida\n",
    "U = np.random.randn(N,m) / np.sqrt(m)\n",
    "c = np.ones(N)\n",
    "\n",
    "\n",
    "for i in tqdm(range(0,iterations)):    \n",
    "    for bigram in bigrams:\n",
    "        \n",
    "        # FOWARD       \n",
    "        # Capa embbeding\n",
    "        c_i = C.T[bigram[0]]\n",
    "        \n",
    "        # Capa oculta\n",
    "        h_i = np.tanh(np.dot(W,c_i) + b)\n",
    "        \n",
    "        # Pre-activacion\n",
    "        a = np.dot(U,h_i) + c\n",
    "        \n",
    "        # Salidas\n",
    "        tmp = np.exp(a - np.max(a))\n",
    "        # Aplicando softmax\n",
    "        f = tmp/tmp.sum(0)\n",
    "        \n",
    "        # BACKPROPAGATION para salida\n",
    "        d_out = f\n",
    "        k= bigram[1]\n",
    "        d_out[k] -= 1\n",
    "     \n",
    "        # Backpropagation para la capa oculta\n",
    "        dh = (1-h_i**2)*np.dot(U.T,d_out) \n",
    "        \n",
    "        # Backpropagation para la capa embedding\n",
    "        dc = np.dot(W.T,dh)\n",
    "        c -= eta*d_out\n",
    "\n",
    "        # Actualizacion de la capa de salida\n",
    "        U -= eta*np.outer(d_out,h_i)\n",
    "        \n",
    "        # Actualizacion de capa oculta\n",
    "        W -= eta*np.outer(dh,c_i)\n",
    "        b -=eta*dh\n",
    "        \n",
    "        # Actualizacion embedding\n",
    "        C.T[bigram[0]] -= eta*dc"
   ]
  },
  {
   "cell_type": "markdown",
   "metadata": {},
   "source": [
    "Como se puede ver en la celda de arriba el entrenamiento duró _01:09_ segundos.\n",
    "\n",
    "La ejecución del algoritmo se realizó en una laptop Dell Inspiron 7559 con un procesador core i7 de sexta generación, como 8 núcleos;16 GB de ram y una GPU GeForce GTX 960M de 4GB.\n",
    "\n",
    "<img src=\"README.assets/monitor.png\" alt=\"monitor\"/>"
   ]
  },
  {
   "cell_type": "markdown",
   "metadata": {},
   "source": [
    "### 5. Evaluación del modelo\n",
    "\n",
    "Entrenada la red, definimos una función forward para obtener las probabilidades a partir de la red ya entrenada."
   ]
  },
  {
   "cell_type": "code",
   "execution_count": 11,
   "metadata": {},
   "outputs": [],
   "source": [
    "def forward(x):\n",
    "    # Capa embbeding\n",
    "    c_i = C.T[x]\n",
    "    # Capa oculta\n",
    "    h_i = np.tanh(np.dot(W,c_i) + b)\n",
    "    # Pre-activacion\n",
    "    a = np.dot(U,h_i) + c\n",
    "    # Salidas\n",
    "    tmp = np.exp(a - np.max(a))\n",
    "    # Aplicando softmax\n",
    "    f = tmp/tmp.sum(0)\n",
    "    \n",
    "    return f"
   ]
  },
  {
   "cell_type": "markdown",
   "metadata": {},
   "source": [
    "La función _forward_ recibe como entrada el índice de una palabra $w_i$, y como resultado obtendremos las palabras $w_j$, subsecuentes, con sus respectivas probabilidades, a continuación se presenta el ejemplo de la palabra \"recuerdo\", con las 10 palabras y sus probabilidades ordenadas de mayor a menor:"
   ]
  },
  {
   "cell_type": "code",
   "execution_count": 12,
   "metadata": {},
   "outputs": [
    {
     "data": {
      "text/plain": [
       "[('en', 0.3022803630361966),\n",
       " ('(', 0.18773934724276287),\n",
       " ('de', 0.061414395761410376),\n",
       " ('el', 0.05688974739968049),\n",
       " ('<oov>', 0.05341479646823687),\n",
       " ('con', 0.041590779799881156),\n",
       " (')', 0.028328774827967383),\n",
       " (',', 0.019769271616732795),\n",
       " ('y', 0.01930154861850866),\n",
       " ('su', 0.018677854935803585)]"
      ]
     },
     "execution_count": 12,
     "metadata": {},
     "output_type": "execute_result"
    }
   ],
   "source": [
    "lista = []\n",
    "\n",
    "for word in idx.keys():\n",
    "    lista.append((word,forward(idx['recuerdo'])[idx[word]]))\n",
    "    #print(word,forward(idx['presidente'])[idx[word]])\n",
    "\n",
    "lista.sort(key=lambda x: x[1],reverse=True)\n",
    "\n",
    "lista[:10]"
   ]
  },
  {
   "cell_type": "markdown",
   "metadata": {},
   "source": [
    "Utilizando _análisis de componentes principales(PCA)_ para reducir la dimensionalidad de los datos obtenidos se puede ver gráficamente la relación entre algunas palabras"
   ]
  },
  {
   "cell_type": "code",
   "execution_count": 13,
   "metadata": {},
   "outputs": [
    {
     "data": {
      "image/png": "[encoded data removed]",
      "text/plain": [
       "<Figure size 432x288 with 1 Axes>"
      ]
     },
     "metadata": {
      "needs_background": "light"
     },
     "output_type": "display_data"
    }
   ],
   "source": [
    "label = [w[0] for w in sorted(idx.items(), key=itemgetter(1))]\n",
    "plot_words(C.T[1:20],label[1:20])"
   ]
  },
  {
   "cell_type": "markdown",
   "metadata": {},
   "source": [
    "Para evalaur el modelo, necesitamos primero definir una función que nos de la probabilidad de las cadenas. Definimos esta función a continuación"
   ]
  },
  {
   "cell_type": "code",
   "execution_count": 14,
   "metadata": {},
   "outputs": [],
   "source": [
    "def prob_sent(sent):\n",
    "    #Obtenemos los simbolos\n",
    "    seq = sent.split()\n",
    "    #Obtenemos los bigramas de la cadena de evaluacion\n",
    "    bigrSeq = zip(seq,seq[1:])\n",
    "    \n",
    "    #Guardamos la probabilidad inicial dado el modelo\n",
    "    try:\n",
    "        p = forward(idx['<BOS>'])[idx[seq[0]]]\n",
    "    except: \n",
    "        p = forward(idx['<BOS>'])[idx['<oov>']]\n",
    "    #Multiplicamos por las probabilidades de los bigramas dado el modelo\n",
    "    for gram1, gram2 in bigrSeq:\n",
    "        #Obtiene las probabilidades de transición\n",
    "        #Dado el primer elemento\n",
    "        try:\n",
    "            prev_prob = forward(idx[gram1])\n",
    "        #En caso de que sea una OOV\n",
    "        except:\n",
    "            prev_prob = forward(idx['<oov>'])\n",
    "        #Obtiene la probabilidad de transitar a la siguiente palabra\n",
    "        try:\n",
    "            p *= prev_prob[idx[gram2]]\n",
    "        #En caso de que sea una OOV\n",
    "        except:\n",
    "            p *= prev_prob[idx['<oov>']]\n",
    "            \n",
    "    return p"
   ]
  },
  {
   "cell_type": "markdown",
   "metadata": {},
   "source": [
    "Para valuar el modelo se utilizará la entropía empírica (tomamos el promedio por cadena de ésta). \n",
    "\n",
    "La _entropía_ nos dice que tan incierto, es un sistema, por lo que un evento puede predecirse con mayor facilidad si presenta menor entropía, es decir, menos incertidumbre.\n",
    "\n",
    "Para efectos prácticamos y de comparación, tomese en cuenta que la entropía de lanzar una moneda es 1.\n",
    "\n",
    "Asimismo, con base en la entropía empírica podemos obtener la perplejidad como: \n",
    "\n",
    "$$Px(\\mu) = 2^{H_E(\\mu)}$$\n",
    "\n",
    "Esta última medida puede verse como el inverso multiplicativo de la probabilidad asignada al conjunto de pruebas por el modelo de lenguaje. Por lo tanto, tenemos que procurar que tenga un valor relativamente pequeño."
   ]
  },
  {
   "cell_type": "code",
   "execution_count": 15,
   "metadata": {},
   "outputs": [
    {
     "name": "stdout",
     "output_type": "stream",
     "text": [
      "Entropía promedio: 4.714470661614007\n",
      "Perplejidad total: 26.25409683934701\n"
     ]
    }
   ],
   "source": [
    "#Evaluación del modelo\n",
    "H = 0.0\n",
    "for cad in corpus_eval:\n",
    "    #Probabilidad de la cadena\n",
    "    p_cad = prob_sent(' '.join(cad))\n",
    "    #Longitud de la cadena\n",
    "    M = len(cad)\n",
    "    #Obtenemos la entropía cruzada de la cadena\n",
    "    if p_cad == 0:\n",
    "        pass\n",
    "    else:\n",
    "        H -= (1./M)*(np.log(p_cad)/np.log(2))\n",
    "        \n",
    "H = H/len(corpus_eval)\n",
    "\n",
    "print('Entropía promedio: {}\\nPerplejidad total: {}'.format(H,2**H))"
   ]
  },
  {
   "cell_type": "markdown",
   "metadata": {},
   "source": [
    "### 6. Calcular la probabilidad de 5 oraciones no vistas en el entrenamiento."
   ]
  },
  {
   "cell_type": "code",
   "execution_count": 16,
   "metadata": {},
   "outputs": [
    {
     "name": "stdout",
     "output_type": "stream",
     "text": [
      "los ojos cerrados: 3.595871776051738e-05\n",
      "los amigos: 0.014433750015787911\n",
      "la niña: 0.014491615938017748\n",
      "noticia negativa: 0.01947038280006786\n",
      "el cielo estrellado: 3.89120871533712e-05\n"
     ]
    }
   ],
   "source": [
    "sents_not_seen = ['los ojos cerrados','los amigos','la niña','noticia negativa','el cielo estrellado']\n",
    "\n",
    "for sent in sents_not_seen:\n",
    "    print(\"{}: {}\".format(sent,prob_sent(sent)))\n"
   ]
  },
  {
   "cell_type": "code",
   "execution_count": 17,
   "metadata": {},
   "outputs": [],
   "source": [
    "# 7. Guardar los vectores de la capa de embedding asociados a las palabras"
   ]
  }
 ],
 "metadata": {
  "kernelspec": {
   "display_name": "Python 3",
   "language": "python",
   "name": "python3"
  },
  "language_info": {
   "codemirror_mode": {
    "name": "ipython",
    "version": 3
   },
   "file_extension": ".py",
   "mimetype": "text/x-python",
   "name": "python",
   "nbconvert_exporter": "python",
   "pygments_lexer": "ipython3",
   "version": "3.9.6"
  }
 },
 "nbformat": 4,
 "nbformat_minor": 4
}
